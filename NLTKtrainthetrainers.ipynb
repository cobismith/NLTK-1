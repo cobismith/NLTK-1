{
 "cells": [
  {
   "cell_type": "code",
   "execution_count": 3,
   "metadata": {
    "collapsed": true
   },
   "outputs": [],
   "source": [
    "from __future__ import print_function, division\n",
    "# clear output from download\n",
    "from IPython.display import display, clear_output\n",
    "# import: all the nltk basics\n",
    "import nltk"
   ]
  },
  {
   "cell_type": "code",
   "execution_count": 2,
   "metadata": {
    "collapsed": false
   },
   "outputs": [],
   "source": [
    "user_nltk_dir = \"/home/researcher/nltk_data\" # specify our data directory\n",
    "if user_nltk_dir not in nltk.data.path: # make sure nltk can access this dir\n",
    "    nltk.data.path.insert(0, user_nltk_dir)\n",
    "nltk.download(\"book\", download_dir=user_nltk_dir) # download book materials to data directory\n",
    "clear_output() # clear the large amount of text we just generated"
   ]
  },
  {
   "cell_type": "code",
   "execution_count": 4,
   "metadata": {
    "collapsed": false
   },
   "outputs": [
    {
     "name": "stdout",
     "output_type": "stream",
     "text": [
      "*** Introductory Examples for the NLTK Book ***\n",
      "Loading text1, ..., text9 and sent1, ..., sent9\n",
      "Type the name of the text or sentence to view it.\n",
      "Type: 'texts()' or 'sents()' to list the materials.\n",
      "text1: Moby Dick by Herman Melville 1851\n",
      "text2: Sense and Sensibility by Jane Austen 1811\n",
      "text3: The Book of Genesis\n",
      "text4: Inaugural Address Corpus\n",
      "text5: Chat Corpus\n",
      "text6: Monty Python and the Holy Grail\n",
      "text7: Wall Street Journal\n",
      "text8: Personals Corpus\n",
      "text9: The Man Who Was Thursday by G . K . Chesterton 1908\n"
     ]
    }
   ],
   "source": [
    "from nltk.book import *  \n",
    "# asterisk means 'everything'"
   ]
  },
  {
   "cell_type": "code",
   "execution_count": 5,
   "metadata": {
    "collapsed": false
   },
   "outputs": [
    {
     "data": {
      "text/plain": [
       "<Text: Sense and Sensibility by Jane Austen 1811>"
      ]
     },
     "execution_count": 5,
     "metadata": {},
     "output_type": "execute_result"
    }
   ],
   "source": [
    "text2"
   ]
  },
  {
   "cell_type": "code",
   "execution_count": 6,
   "metadata": {
    "collapsed": false
   },
   "outputs": [
    {
     "data": {
      "text/plain": [
       "19317"
      ]
     },
     "execution_count": 6,
     "metadata": {},
     "output_type": "execute_result"
    }
   ],
   "source": [
    "len(set(text1))"
   ]
  },
  {
   "cell_type": "code",
   "execution_count": 7,
   "metadata": {
    "collapsed": false
   },
   "outputs": [
    {
     "data": {
      "text/plain": [
       "260819"
      ]
     },
     "execution_count": 7,
     "metadata": {},
     "output_type": "execute_result"
    }
   ],
   "source": [
    "len(text1)"
   ]
  },
  {
   "cell_type": "code",
   "execution_count": 8,
   "metadata": {
    "collapsed": false
   },
   "outputs": [
    {
     "data": {
      "text/plain": [
       "147"
      ]
     },
     "execution_count": 8,
     "metadata": {},
     "output_type": "execute_result"
    }
   ],
   "source": [
    "text4.count(\"American\")"
   ]
  },
  {
   "cell_type": "code",
   "execution_count": 9,
   "metadata": {
    "collapsed": false
   },
   "outputs": [
    {
     "data": {
      "text/plain": [
       "145735"
      ]
     },
     "execution_count": 9,
     "metadata": {},
     "output_type": "execute_result"
    }
   ],
   "source": [
    "len(text4)"
   ]
  },
  {
   "cell_type": "code",
   "execution_count": 14,
   "metadata": {
    "collapsed": false
   },
   "outputs": [
    {
     "data": {
      "text/plain": [
       "0.13174597728754248"
      ]
     },
     "execution_count": 14,
     "metadata": {},
     "output_type": "execute_result"
    }
   ],
   "source": [
    "(text4.count(\"America\")/len(text4))*100"
   ]
  },
  {
   "cell_type": "code",
   "execution_count": 15,
   "metadata": {
    "collapsed": false
   },
   "outputs": [
    {
     "name": "stdout",
     "output_type": "stream",
     "text": [
      "wise gamesome vexatious modifies mean determined imperial doleful\n",
      "lamentable uncommon christian perilous tyrannical loving delightfully\n",
      "passing few fearless puzzled domineering\n"
     ]
    }
   ],
   "source": [
    "text1.similar(\"monstrous\")"
   ]
  },
  {
   "cell_type": "code",
   "execution_count": 17,
   "metadata": {
    "collapsed": false
   },
   "outputs": [
    {
     "name": "stdout",
     "output_type": "stream",
     "text": [
      "comfortable good uncertain fine ignorant serious short valued inviting\n",
      "expensive dying better unabated liked pain exact kind impossible\n",
      "called unsubdued\n"
     ]
    }
   ],
   "source": [
    "text2.similar(\"cheerful\")"
   ]
  },
  {
   "cell_type": "code",
   "execution_count": 18,
   "metadata": {
    "collapsed": false
   },
   "outputs": [
    {
     "name": "stderr",
     "output_type": "stream",
     "text": [
      "/opt/python/lib64/python3.4/site-packages/matplotlib/font_manager.py:273: UserWarning: Matplotlib is building the font cache using fc-list. This may take a moment.\n",
      "  warnings.warn('Matplotlib is building the font cache using fc-list. This may take a moment.')\n",
      "/opt/python/lib64/python3.4/site-packages/matplotlib/font_manager.py:273: UserWarning: Matplotlib is building the font cache using fc-list. This may take a moment.\n",
      "  warnings.warn('Matplotlib is building the font cache using fc-list. This may take a moment.')\n"
     ]
    }
   ],
   "source": [
    "%matplotlib inline"
   ]
  },
  {
   "cell_type": "code",
   "execution_count": 20,
   "metadata": {
    "collapsed": false
   },
   "outputs": [
    {
     "name": "stderr",
     "output_type": "stream",
     "text": [
      "/opt/python/lib64/python3.4/site-packages/nltk/draw/__init__.py:15: UserWarning: nltk.draw package not loaded (please install Tkinter library).\n",
      "  warnings.warn(\"nltk.draw package not loaded \"\n"
     ]
    },
    {
     "data": {
      "image/png": "[encoded data removed]",
      "text/plain": [
       "<matplotlib.figure.Figure at 0x7f76ef812c88>"
      ]
     },
     "metadata": {},
     "output_type": "display_data"
    }
   ],
   "source": [
    "%matplotlib inline\n",
    "#text1.dispersion_plot([\"whale\"])\n",
    "\n",
    "from nltk.draw.dispersion import dispersion_plot\n",
    "dispersion_plot(text1, [\"whale\"])\n",
    "\n"
   ]
  },
  {
   "cell_type": "code",
   "execution_count": 21,
   "metadata": {
    "collapsed": false
   },
   "outputs": [
    {
     "data": {
      "image/png": "[encoded data removed]",
      "text/plain": [
       "<matplotlib.figure.Figure at 0x7f76eac77c88>"
      ]
     },
     "metadata": {},
     "output_type": "display_data"
    }
   ],
   "source": [
    "dispersion_plot(text4, [\"citizens\", \"democracy\", \"freedom\", \"duties\", \"America\"]) # plot five words longitudinally"
   ]
  },
  {
   "cell_type": "code",
   "execution_count": 22,
   "metadata": {
    "collapsed": false
   },
   "outputs": [
    {
     "name": "stdout",
     "output_type": "stream",
     "text": [
      "make these words appear\n"
     ]
    }
   ],
   "source": [
    "string = \"user\"\n",
    "if string == \"user\":\n",
    "    print(\"make these words appear\")"
   ]
  },
  {
   "cell_type": "code",
   "execution_count": 23,
   "metadata": {
    "collapsed": true
   },
   "outputs": [],
   "source": [
    "def welcomer(name):\n",
    "    print('Welcome, %s!' % name)# here '%s' tells Python to expect a string and how many strings to expect. \n",
    "    \n",
    "    "
   ]
  },
  {
   "cell_type": "code",
   "execution_count": 24,
   "metadata": {
    "collapsed": false
   },
   "outputs": [
    {
     "name": "stdout",
     "output_type": "stream",
     "text": [
      "Welcome, Cobi!\n"
     ]
    }
   ],
   "source": [
    "welcomer('Cobi')"
   ]
  },
  {
   "cell_type": "code",
   "execution_count": 25,
   "metadata": {
    "collapsed": true
   },
   "outputs": [],
   "source": [
    "def lexical_diversity(text):\n",
    "    return len(text)/len(set(text))"
   ]
  },
  {
   "cell_type": "code",
   "execution_count": 26,
   "metadata": {
    "collapsed": false
   },
   "outputs": [
    {
     "data": {
      "text/plain": [
       "13.502044830977896"
      ]
     },
     "execution_count": 26,
     "metadata": {},
     "output_type": "execute_result"
    }
   ],
   "source": [
    "lexical_diversity(text1)"
   ]
  },
  {
   "cell_type": "code",
   "execution_count": 27,
   "metadata": {
    "collapsed": false
   },
   "outputs": [
    {
     "name": "stdout",
     "output_type": "stream",
     "text": [
      "<Text: Moby Dick by Herman Melville 1851> 13.502044830977896\n",
      "<Text: Sense and Sensibility by Jane Austen 1811> 20.719449729255086\n",
      "<Text: The Book of Genesis> 16.050197203298673\n",
      "<Text: Inaugural Address Corpus> 14.941049825712529\n",
      "<Text: Chat Corpus> 7.420046158918563\n",
      "<Text: Monty Python and the Holy Grail> 7.833333333333333\n",
      "<Text: Wall Street Journal> 8.113797549967762\n",
      "<Text: Personals Corpus> 4.39259927797834\n",
      "<Text: The Man Who Was Thursday by G . K . Chesterton 1908> 10.167915381225209\n"
     ]
    }
   ],
   "source": [
    "Library = [text1, text2, text3, text4, text5, text6, text7, text8, text9]\n",
    "for book in Library:\n",
    "    score = lexical_diversity(book)\n",
    "    print(book, score)"
   ]
  },
  {
   "cell_type": "code",
   "execution_count": 30,
   "metadata": {
    "collapsed": false
   },
   "outputs": [
    {
     "name": "stdout",
     "output_type": "stream",
     "text": [
      "deep dreadful outrageous big great hard smooth sunlit sensitive seemed\n",
      "low long dwarfish heavy curious quixotic strained near wayside harsh\n"
     ]
    }
   ],
   "source": [
    "text9.similar(\"distant\")"
   ]
  },
  {
   "cell_type": "code",
   "execution_count": 33,
   "metadata": {
    "collapsed": false
   },
   "outputs": [
    {
     "name": "stdout",
     "output_type": "stream",
     "text": [
      "Now playing : hopscotch\n",
      "Fun!\n",
      "Now playing : handball\n",
      "Fun!\n",
      "Now playing : skipping\n",
      "Fun!\n"
     ]
    }
   ],
   "source": [
    "games = ['hopscotch', 'handball', 'skipping']\n",
    "for game in games:        \n",
    "    print('Now playing :', game)\n",
    "    print('Fun!')"
   ]
  },
  {
   "cell_type": "code",
   "execution_count": 34,
   "metadata": {
    "collapsed": true
   },
   "outputs": [],
   "source": [
    "from nltk.probability import FreqDist\n",
    "from collections import Counter\n",
    "fdist1 = FreqDist(text1)"
   ]
  },
  {
   "cell_type": "code",
   "execution_count": 35,
   "metadata": {
    "collapsed": false
   },
   "outputs": [
    {
     "data": {
      "text/plain": [
       "[(',', 18713),\n",
       " ('the', 13721),\n",
       " ('.', 6862),\n",
       " ('of', 6536),\n",
       " ('and', 6024),\n",
       " ('a', 4569),\n",
       " ('to', 4542),\n",
       " (';', 4072),\n",
       " ('in', 3916),\n",
       " ('that', 2982),\n",
       " (\"'\", 2684),\n",
       " ('-', 2552),\n",
       " ('his', 2459),\n",
       " ('it', 2209),\n",
       " ('I', 2124),\n",
       " ('s', 1739),\n",
       " ('is', 1695),\n",
       " ('he', 1661),\n",
       " ('with', 1659),\n",
       " ('was', 1632),\n",
       " ('as', 1620),\n",
       " ('\"', 1478),\n",
       " ('all', 1462),\n",
       " ('for', 1414),\n",
       " ('this', 1280),\n",
       " ('!', 1269),\n",
       " ('at', 1231),\n",
       " ('by', 1137),\n",
       " ('but', 1113),\n",
       " ('not', 1103),\n",
       " ('--', 1070),\n",
       " ('him', 1058),\n",
       " ('from', 1052),\n",
       " ('be', 1030),\n",
       " ('on', 1005),\n",
       " ('so', 918),\n",
       " ('whale', 906),\n",
       " ('one', 889),\n",
       " ('you', 841),\n",
       " ('had', 767),\n",
       " ('have', 760),\n",
       " ('there', 715),\n",
       " ('But', 705),\n",
       " ('or', 697),\n",
       " ('were', 680),\n",
       " ('now', 646),\n",
       " ('which', 640),\n",
       " ('?', 637),\n",
       " ('me', 627),\n",
       " ('like', 624)]"
      ]
     },
     "execution_count": 35,
     "metadata": {},
     "output_type": "execute_result"
    }
   ],
   "source": [
    "fdist1.most_common(50)"
   ]
  },
  {
   "cell_type": "code",
   "execution_count": 39,
   "metadata": {
    "collapsed": false
   },
   "outputs": [
    {
     "name": "stdout",
     "output_type": "stream",
     "text": [
      "<Text: Moby Dick by Herman Melville 1851> [(',', 18713), ('the', 13721), ('.', 6862), ('of', 6536), ('and', 6024), ('a', 4569), ('to', 4542), (';', 4072), ('in', 3916), ('that', 2982), (\"'\", 2684), ('-', 2552), ('his', 2459), ('it', 2209), ('I', 2124), ('s', 1739), ('is', 1695), ('he', 1661), ('with', 1659), ('was', 1632), ('as', 1620), ('\"', 1478), ('all', 1462), ('for', 1414), ('this', 1280), ('!', 1269), ('at', 1231), ('by', 1137), ('but', 1113), ('not', 1103), ('--', 1070), ('him', 1058), ('from', 1052), ('be', 1030), ('on', 1005), ('so', 918), ('whale', 906), ('one', 889), ('you', 841), ('had', 767), ('have', 760), ('there', 715), ('But', 705), ('or', 697), ('were', 680), ('now', 646), ('which', 640), ('?', 637), ('me', 627), ('like', 624)]\n",
      "<Text: Sense and Sensibility by Jane Austen 1811> [(',', 9397), ('to', 4063), ('.', 3975), ('the', 3861), ('of', 3565), ('and', 3350), ('her', 2436), ('a', 2043), ('I', 2004), ('in', 1904), ('was', 1846), ('it', 1568), ('\"', 1506), (';', 1419), ('she', 1333), ('be', 1305), ('that', 1297), ('for', 1234), ('not', 1212), ('as', 1179), ('you', 1037), ('with', 971), ('had', 969), ('his', 941), ('he', 895), (\"'\", 883), ('have', 807), ('at', 806), ('by', 737), ('is', 728), ('.\"', 721), ('s', 700), ('Elinor', 684), ('on', 676), ('all', 642), ('him', 633), ('so', 617), ('but', 597), ('which', 592), ('could', 568), ('Marianne', 566), ('my', 551), ('Mrs', 530), ('from', 527), ('would', 507), ('very', 492), ('no', 488), ('their', 463), ('them', 462), ('--', 461)]\n",
      "<Text: The Book of Genesis> [(',', 3681), ('and', 2428), ('the', 2411), ('of', 1358), ('.', 1315), ('And', 1250), ('his', 651), ('he', 648), ('to', 611), (';', 605), ('unto', 590), ('in', 588), ('that', 509), ('I', 484), ('said', 476), ('him', 387), ('a', 342), ('my', 325), ('was', 317), ('for', 297), ('it', 290), ('with', 289), ('me', 282), ('thou', 272), (\"'\", 268), ('thy', 267), ('is', 267), ('s', 263), ('thee', 257), ('be', 254), ('shall', 253), ('they', 249), ('all', 245), (':', 238), ('God', 231), ('them', 230), ('not', 224), ('which', 198), ('father', 198), ('will', 195), ('land', 184), ('Jacob', 179), ('came', 177), ('her', 173), ('LORD', 166), ('were', 163), ('she', 161), ('Joseph', 157), ('from', 157), ('their', 153)]\n",
      "<Text: Inaugural Address Corpus> [('the', 9281), ('of', 6970), (',', 6840), ('and', 4991), ('.', 4676), ('to', 4311), ('in', 2527), ('a', 2134), ('our', 1905), ('that', 1688), ('be', 1460), ('is', 1403), ('we', 1141), ('for', 1075), ('by', 1036), ('it', 1011), ('which', 1002), ('have', 994), ('not', 916), ('as', 888), ('with', 886), ('will', 846), ('I', 831), ('are', 774), ('all', 758), ('their', 719), ('this', 700), ('The', 619), ('has', 611), ('people', 559), ('its', 554), (';', 544), ('or', 537), ('from', 521), ('on', 496), ('We', 483), ('been', 482), ('but', 479), ('can', 457), ('us', 455), ('my', 449), ('no', 406), ('an', 377), ('--', 363), ('upon', 363), ('who', 356), ('It', 356), ('so', 354), ('must', 345), ('they', 341)]\n",
      "<Text: Chat Corpus> [('.', 1268), ('JOIN', 1021), ('PART', 1016), ('?', 737), ('lol', 704), ('to', 658), ('i', 648), ('the', 646), ('you', 635), (',', 596), ('I', 576), ('a', 568), ('hi', 546), ('me', 415), ('...', 412), ('is', 372), ('..', 361), ('in', 357), ('ACTION', 346), ('!', 342), ('and', 335), ('it', 332), ('that', 274), ('hey', 264), ('my', 242), ('of', 202), ('u', 200), (\"'s\", 195), ('for', 188), ('on', 186), ('what', 183), ('here', 181), ('are', 178), ('....', 170), ('not', 170), ('do', 168), ('all', 165), ('have', 164), ('up', 160), ('like', 156), ('no', 155), ('with', 152), ('was', 142), ('chat', 142), (\"n't\", 141), ('so', 139), ('your', 137), ('/', 133), (\"'m\", 133), ('good', 130)]\n",
      "<Text: Monty Python and the Holy Grail> [(':', 1197), ('.', 816), ('!', 801), (',', 731), (\"'\", 421), ('[', 319), (']', 312), ('the', 299), ('I', 255), ('ARTHUR', 225), ('?', 207), ('you', 204), ('a', 188), ('of', 158), ('--', 148), ('to', 144), ('s', 141), ('and', 135), ('#', 127), ('...', 118), ('Oh', 110), ('it', 107), ('is', 106), ('-', 88), ('in', 86), ('that', 84), ('t', 77), ('1', 76), ('No', 76), ('LAUNCELOT', 76), ('your', 75), ('not', 70), ('GALAHAD', 69), ('KNIGHT', 68), ('What', 65), ('FATHER', 63), ('we', 62), ('BEDEVERE', 61), ('You', 61), ('We', 60), ('this', 59), ('no', 55), ('Well', 54), ('HEAD', 54), ('GUARD', 53), ('have', 53), ('are', 52), ('Sir', 52), ('And', 50), ('A', 50)]\n",
      "<Text: Wall Street Journal> [(',', 4885), ('the', 4045), ('.', 3828), ('of', 2319), ('to', 2164), ('a', 1878), ('in', 1572), ('and', 1511), ('*-1', 1123), ('0', 1099), ('*', 965), (\"'s\", 864), ('for', 817), ('that', 807), ('*T*-1', 806), ('*U*', 744), ('$', 718), ('The', 717), ('``', 702), (\"''\", 684), ('is', 671), ('said', 628), ('on', 490), ('it', 476), ('%', 446), ('by', 429), ('at', 402), ('with', 387), ('from', 386), ('as', 385), ('million', 383), ('Mr.', 375), ('*-2', 372), ('are', 369), ('was', 367), ('be', 356), ('*T*-2', 345), ('has', 339), ('its', 332), (\"n't\", 325), ('have', 323), ('an', 316), ('or', 291), ('will', 281), ('company', 260), ('--', 230), ('he', 230), ('which', 225), ('U.S.', 221), ('year', 212)]\n",
      "<Text: Personals Corpus> [(',', 539), ('.', 353), ('/', 110), ('for', 99), ('and', 74), ('to', 74), ('lady', 68), ('-', 66), ('seeks', 60), ('a', 52), ('with', 44), ('S', 36), ('ship', 33), ('&', 30), ('relationship', 29), ('fun', 28), ('build', 27), ('in', 27), ('slim', 27), ('o', 26), ('s', 24), ('50', 23), ('y', 23), ('smoker', 23), ('non', 22), ('movies', 22), ('I', 22), ('good', 21), ('honest', 20), ('dining', 19), ('out', 19), ('rship', 18), ('looking', 18), ('like', 18), ('friendship', 17), ('who', 17), ('age', 17), ('attractive', 17), ('35', 16), ('5', 16), ('45', 16), ('40', 16), ('Looking', 16), ('times', 15), ('meet', 15), ('MALE', 15), ('male', 15), ('life', 15), ('enjoy', 14), ('fit', 14)]\n",
      "<Text: The Man Who Was Thursday by G . K . Chesterton 1908> [(',', 3488), ('the', 3291), ('.', 2717), ('a', 1713), ('of', 1710), ('and', 1568), ('\"', 1336), ('to', 1045), ('in', 888), ('I', 885), ('he', 858), ('that', 841), ('his', 765), ('was', 716), ('you', 580), ('it', 565), ('with', 544), ('Syme', 515), (',\"', 507), ('said', 507), (\"'\", 496), ('is', 462), ('as', 456), ('had', 427), ('.\"', 391), ('not', 355), (';', 331), ('The', 326), ('at', 324), ('-', 294), ('on', 289), ('but', 282), ('for', 279), ('him', 278), ('all', 277), ('man', 272), ('He', 268), ('like', 260), ('be', 254), ('this', 253), ('have', 247), ('are', 239), ('they', 233), ('an', 232), ('s', 224), ('were', 222), ('out', 209), ('?\"', 203), ('which', 198), ('one', 187)]\n"
     ]
    }
   ],
   "source": [
    "for book in Library:\n",
    "    fdistall = FreqDist(book)\n",
    "    print (book, fdistall.most_common(50))\n"
   ]
  },
  {
   "cell_type": "code",
   "execution_count": 41,
   "metadata": {
    "collapsed": false
   },
   "outputs": [
    {
     "data": {
      "text/plain": [
       "['RESPONSIBILITIES',\n",
       " 'antiphilosophists',\n",
       " 'constitutionally',\n",
       " 'contradistinction',\n",
       " 'discountenancing',\n",
       " 'disqualification',\n",
       " 'enthusiastically',\n",
       " 'instrumentalities',\n",
       " 'internationality',\n",
       " 'irresponsibility',\n",
       " 'misappropriation',\n",
       " 'misrepresentation',\n",
       " 'misunderstanding',\n",
       " 'responsibilities',\n",
       " 'sentimentalizing',\n",
       " 'transcontinental',\n",
       " 'uncharitableness',\n",
       " 'unconstitutional']"
      ]
     },
     "execution_count": 41,
     "metadata": {},
     "output_type": "execute_result"
    }
   ],
   "source": [
    "vocab = set(text4)\n",
    "long_words = [word for word in vocab if len(word) > 15]\n",
    "sorted(long_words)"
   ]
  },
  {
   "cell_type": "code",
   "execution_count": 48,
   "metadata": {
    "collapsed": false
   },
   "outputs": [
    {
     "name": "stdout",
     "output_type": "stream",
     "text": [
      "<Text: The Man Who Was Thursday by G . K . Chesterton 1908> ['supernaturalness', 'circumnavigating', 'irresistibleness', 'apprehensiveness', 'Physiognomically', 'indiscriminately', 'undiscriminating', 'responsibilities', 'physiognomically', 'CIRCUMNAVIGATION', 'circumnavigation', 'hermaphroditical', 'simultaneousness']\n",
      "<Text: The Man Who Was Thursday by G . K . Chesterton 1908> ['incomprehensible']\n",
      "<Text: The Man Who Was Thursday by G . K . Chesterton 1908> []\n",
      "<Text: The Man Who Was Thursday by G . K . Chesterton 1908> ['transcontinental', 'misappropriation', 'constitutionally', 'RESPONSIBILITIES', 'internationality', 'disqualification', 'unconstitutional', 'discountenancing', 'responsibilities', 'enthusiastically', 'irresponsibility', 'misunderstanding', 'uncharitableness', 'sentimentalizing']\n",
      "<Text: The Man Who Was Thursday by G . K . Chesterton 1908> ['iamahotniplickme', '#talkcity_adults', '!!!!!!!!!!!!!!!!', 'HolocaustYourMom', 'Nooooooooooooooo', 'heyyyyyyyyyyyyyy', 'Bloooooooooooood', '................', 'agurlwithbigguns']\n",
      "<Text: The Man Who Was Thursday by G . K . Chesterton 1908> []\n",
      "<Text: The Man Who Was Thursday by G . K . Chesterton 1908> ['executive-office', 'pianist-comedian', 'anti-programmers', 'electric-utility', 'investment-grade', 'yet-to-be-formed', 'achievement-test', 'state-supervised', 'bread-and-butter', 'securities-based', 'Washington-based', 'Test-preparation', 'over-the-counter', 'truth-in-lending', 'Freeport-McMoRan', 'Prudential-Bache', 'unconstitutional', 'savings-and-loan', 'stock-specialist', 'anti-miscarriage', 'asbestos-related', 'Chinese-American', 'current-carrying', 'responsibilities', 'early-retirement', 'public-relations', 'noncompetitively', 'battery-operated', 'get-out-the-vote', 'disproportionate', 'price-depressing', 'life-of-contract', 'school-sponsored', 'interest-bearing', 'incentive-backed', 'automotive-parts', 'English-speaking', 'sometimes-tawdry', 'test-preparation', 'government-owned', 'labor-management', 'creditworthiness', 'Sacramento-based', 'abortion-related']\n",
      "<Text: The Man Who Was Thursday by G . K . Chesterton 1908> []\n",
      "<Text: The Man Who Was Thursday by G . K . Chesterton 1908> ['undenominational', 'incomprehensible']\n"
     ]
    }
   ],
   "source": [
    "for books in Library:\n",
    "    vocab = set(books)\n",
    "    sixteenwords = [word for word in vocab if len(word) == 16]\n",
    "    sorted(sixteenwords)\n",
    "    print (book, sixteenwords)"
   ]
  },
  {
   "cell_type": "code",
   "execution_count": 54,
   "metadata": {
    "collapsed": false
   },
   "outputs": [
    {
     "data": {
      "text/plain": [
       "['acknowledged',\n",
       " 'acquaintance',\n",
       " 'astonishment',\n",
       " 'cheerfulness',\n",
       " 'circumstance',\n",
       " 'circumstances',\n",
       " 'comfortable',\n",
       " 'communication',\n",
       " 'consequence',\n",
       " 'considerable',\n",
       " 'conversation',\n",
       " 'countenance',\n",
       " 'difficulties',\n",
       " 'disappointed',\n",
       " 'engagements',\n",
       " 'established',\n",
       " 'explanation',\n",
       " 'immediately',\n",
       " 'inclination',\n",
       " 'indifference',\n",
       " 'indifferent',\n",
       " 'information',\n",
       " 'intelligence',\n",
       " 'interesting',\n",
       " 'opportunity',\n",
       " 'particularly',\n",
       " 'probability',\n",
       " 'resemblance',\n",
       " 'respectable',\n",
       " 'understanding',\n",
       " 'unfortunate',\n",
       " 'unnecessary']"
      ]
     },
     "execution_count": 54,
     "metadata": {},
     "output_type": "execute_result"
    }
   ],
   "source": [
    "fdist10 = FreqDist(text9)\n",
    "sorted(word for word in set(text9) if len(word) > 10 and fdist5[word] > 10)"
   ]
  },
  {
   "cell_type": "code",
   "execution_count": 55,
   "metadata": {
    "collapsed": false
   },
   "outputs": [
    {
     "data": {
      "text/plain": [
       "['accordingly', 'increasingly', 'lumberingly', 'sparingly']"
      ]
     },
     "execution_count": 55,
     "metadata": {},
     "output_type": "execute_result"
    }
   ],
   "source": [
    "sorted(w for w in set(text9) if w.endswith('ingly'))"
   ]
  },
  {
   "cell_type": "code",
   "execution_count": 63,
   "metadata": {
    "collapsed": false
   },
   "outputs": [
    {
     "data": {
      "text/plain": [
       "['sin', 'since', 'sinew', 'sinners', 'sinning']"
      ]
     },
     "execution_count": 63,
     "metadata": {},
     "output_type": "execute_result"
    }
   ],
   "source": [
    "sorted(w for w in set(text3) if w.startswith('sin'))"
   ]
  },
  {
   "cell_type": "code",
   "execution_count": 64,
   "metadata": {
    "collapsed": true
   },
   "outputs": [],
   "source": [
    "from __future__ import print_function, division\n",
    "\n",
    "import sys\n",
    "import nltk\n",
    "from IPython.display import display, clear_output\n",
    "sys.path.append(\"/usr/lib/python2.7/site-packages/\")\n",
    "%matplotlib inline"
   ]
  },
  {
   "cell_type": "code",
   "execution_count": null,
   "metadata": {
    "collapsed": true
   },
   "outputs": [],
   "source": []
  }
 ],
 "metadata": {
  "kernelspec": {
   "display_name": "Python 3",
   "language": "python",
   "name": "python3"
  },
  "language_info": {
   "codemirror_mode": {
    "name": "ipython",
    "version": 3
   },
   "file_extension": ".py",
   "mimetype": "text/x-python",
   "name": "python",
   "nbconvert_exporter": "python",
   "pygments_lexer": "ipython3",
   "version": "3.4.3"
  }
 },
 "nbformat": 4,
 "nbformat_minor": 0
}
